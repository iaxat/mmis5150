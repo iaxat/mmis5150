{
  "cells": [
    {
      "cell_type": "code",
      "execution_count": 1,
      "metadata": {
        "dotnet_interactive": {
          "language": "python"
        }
      },
      "source": [
        "# Assignment One\n",
        "# Course: MIS 5150\n",
        "# Professor: Dr. David Paper"
      ],
      "outputs": []
    },
    {
      "cell_type": "code",
      "execution_count": 1,
      "metadata": {
        "dotnet_interactive": {
          "language": "python"
        }
      },
      "source": [
        "import tensorflow as tf\n",
        "import numpy as np"
      ],
      "outputs": []
    },
    {
      "cell_type": "code",
      "execution_count": 1,
      "metadata": {
        "dotnet_interactive": {
          "language": "python"
        }
      },
      "source": [
        "# Question 1:\n",
        "# \n",
        "import tensorflow as tf\n",
        "import numpy as np\n",
        "\n",
        "# a.\n",
        "# Creating dataset\n",
        "data_set = tf.data.Dataset.from_tensor_slices([[0, 1, 9, 8, 7, 3], [2, 9, 4, 0, 2, 3], [7, 3, 3, 2, 2, 1], [0, 0, 1, 2, 2, 5]])\n",
        "\n",
        "# b.\n",
        "# Iterating data\n",
        "# method 1\n",
        "for elements in data_set:\n",
        "  print(elements)\n",
        "print('')\n",
        "# method 2\n",
        "for elements in data_set:\n",
        "  print(elements.numpy())\n",
        "print('')\n",
        "# method 3\n",
        "iterator = iter(data_set)\n",
        "print(iterator.get_next())\n",
        "print(iterator.get_next())\n",
        "print(iterator.get_next())\n",
        "print(iterator.get_next())\n",
        "print('')\n",
        "# method 4\n",
        "for data in data_set:\n",
        "    print (data.numpy())\n",
        "print('')\n",
        "\n",
        "# c.\n",
        "# display 3rd element from 2nd tensor\n",
        "# method 1\n",
        "ls = []\n",
        "for item in data_set:\n",
        "  e = item.numpy()\n",
        "  ls.append(e)\n",
        "print('3rd element from 2nd tensor:',ls[1][2])\n",
        "print('')\n",
        "# method 2\n",
        "np_arr = np.asarray(ls, dtype=np.float32)\n",
        "print('3rd element from 2nd tensor:',int(np_arr[1][2]))\n",
        "print('')\n",
        "# method 3\n",
        "display_element = np.array([[0, 1, 9, 8, 7, 3], [2, 9, 4, 0, 2, 3], [7, 3, 3, 2, 2, 1], [0, 0, 1, 2, 2, 5]])\n",
        "print('3rd element from 2nd tensor:', display_element[1][2])"
      ],
      "outputs": [
        {
          "output_type": "execute_result",
          "data": {
            "text/plain": "tf.Tensor([0 1 9 8 7 3], shape=(6,), dtype=int32)\ntf.Tensor([2 9 4 0 2 3], shape=(6,), dtype=int32)\ntf.Tensor([7 3 3 2 2 1], shape=(6,), dtype=int32)\ntf.Tensor([0 0 1 2 2 5], shape=(6,), dtype=int32)\n\n[0 1 9 8 7 3]\n[2 9 4 0 2 3]\n[7 3 3 2 2 1]\n[0 0 1 2 2 5]\n\ntf.Tensor([0 1 9 8 7 3], shape=(6,), dtype=int32)\ntf.Tensor([2 9 4 0 2 3], shape=(6,), dtype=int32)\ntf.Tensor([7 3 3 2 2 1], shape=(6,), dtype=int32)\ntf.Tensor([0 0 1 2 2 5], shape=(6,), dtype=int32)\n\n[0 1 9 8 7 3]\n[2 9 4 0 2 3]\n[7 3 3 2 2 1]\n[0 0 1 2 2 5]\n\n3rd element from 2nd tensor: 4\n\n3rd element from 2nd tensor: 4\n\n3rd element from 2nd tensor: 4"
          },
          "execution_count": 1,
          "metadata": {}
        }
      ]
    },
    {
      "cell_type": "code",
      "execution_count": 1,
      "metadata": {
        "dotnet_interactive": {
          "language": "python"
        }
      },
      "source": [
        "# Question 2:\n",
        "# \n",
        "import tensorflow as tf\n",
        "# GPU Enable\n",
        "tf.__version__, tf.test.gpu_device_name()\n",
        "\n",
        "\n",
        "# output ('2.4.1', '/device:GPU:0')"
      ],
      "outputs": [
        {
          "output_type": "execute_result",
          "data": {
            "text/plain": [
              "('2.4.1', '/device:GPU:0')"
            ]
          },
          "execution_count": 1,
          "metadata": {}
        }
      ]
    },
    {
      "cell_type": "code",
      "execution_count": 1,
      "metadata": {
        "dotnet_interactive": {
          "language": "python"
        }
      },
      "source": [
        "# Question 3:\n",
        "# \n",
        "import tensorflow as tf\n",
        "import pandas as pd\n",
        "from tensorflow import keras\n",
        "\n",
        "ds = 'flag.data'\n",
        "url = 'https://archive.ics.uci.edu/ml/machine-learning-databases/flags/flag.data'\n",
        "dataset_path = tf.keras.utils.get_file(ds, url)\n",
        "# downloaded the data using keras\n",
        "dataset_path\n",
        "\n",
        "# cols from the flag.names file\n",
        "cols = ['name','landmass','zone','area','population','language','religion','bars','stripes','colours','red','green','blue','gold','white','black','orange','mainhue','circles','crosses','saltires','quarters','sunstars','crescent','triangle','icon','animate','text','topleft','botright']\n",
        "\n",
        "# raw dataset using pandas\n",
        "raw_dataset = pd.read_csv(dataset_path, names=cols)\n",
        "\n",
        "# displaying dataset\n",
        "raw_dataset.head()\n",
        "\n",
        "# remove non numerical values\n",
        "raw_dataset.pop('name')\n",
        "raw_dataset.pop('mainhue')\n",
        "raw_dataset.pop('topleft')\n",
        "raw_dataset.pop('botright')\n",
        "# print to check removal of non-numerical values\n",
        "raw_dataset.head()\n",
        "\n",
        "# step 2\n",
        "dataset = tf.data.Dataset.from_tensor_slices(raw_dataset.values)\n",
        "\n",
        "# range for dataset\n",
        "dataset = tf.data.Dataset.range(10)\n",
        "\n",
        "# using take function\n",
        "for i in dataset.take(3):\n",
        "  print(i)\n",
        "print('')"
      ],
      "outputs": [
        {
          "output_type": "execute_result",
          "data": {
            "text/plain": "tf.Tensor(0, shape=(), dtype=int64)\ntf.Tensor(1, shape=(), dtype=int64)\ntf.Tensor(2, shape=(), dtype=int64)\n"
          },
          "execution_count": 1,
          "metadata": {}
        }
      ]
    },
    {
      "cell_type": "code",
      "execution_count": 1,
      "metadata": {
        "dotnet_interactive": {
          "language": "python"
        }
      },
      "source": [
        "# Question 4:\n",
        "# \n",
        "import tensorflow as tf\n",
        "\n",
        "# a. create a tensor\n",
        "dataset = tf.data.Dataset.range(10)\n",
        "\n",
        "# b. display the tendor\n",
        "for row in dataset:\n",
        "  print(row)\n",
        "print('')\n",
        "\n",
        "# c. repeat and batch\n",
        "data_batch = dataset.repeat(5).batch(4)\n",
        "\n",
        "# d. display batched sensor\n",
        "for row in data_batch:\n",
        "  print(row)\n",
        "print('')\n",
        "\n",
        "# e. map to cube the dataset\n",
        "data_map = data_batch.map(lambda x:x ** 3)\n",
        "\n",
        "# f. batched tensor display\n",
        "for item in data_map.take(2):\n",
        "  print(item)\n",
        "print('')"
      ],
      "outputs": [
        {
          "output_type": "execute_result",
          "data": {
            "text/plain": "tf.Tensor(0, shape=(), dtype=int64)\ntf.Tensor(1, shape=(), dtype=int64)\ntf.Tensor(2, shape=(), dtype=int64)\ntf.Tensor(3, shape=(), dtype=int64)\ntf.Tensor(4, shape=(), dtype=int64)\ntf.Tensor(5, shape=(), dtype=int64)\ntf.Tensor(6, shape=(), dtype=int64)\ntf.Tensor(7, shape=(), dtype=int64)\ntf.Tensor(8, shape=(), dtype=int64)\ntf.Tensor(9, shape=(), dtype=int64)\n\ntf.Tensor([0 1 2 3], shape=(4,), dtype=int64)\ntf.Tensor([4 5 6 7], shape=(4,), dtype=int64)\ntf.Tensor([8 9 0 1], shape=(4,), dtype=int64)\ntf.Tensor([2 3 4 5], shape=(4,), dtype=int64)\ntf.Tensor([6 7 8 9], shape=(4,), dtype=int64)\ntf.Tensor([0 1 2 3], shape=(4,), dtype=int64)\ntf.Tensor([4 5 6 7], shape=(4,), dtype=int64)\ntf.Tensor([8 9 0 1], shape=(4,), dtype=int64)\ntf.Tensor([2 3 4 5], shape=(4,), dtype=int64)\ntf.Tensor([6 7 8 9], shape=(4,), dtype=int64)\ntf.Tensor([0 1 2 3], shape=(4,), dtype=int64)\ntf.Tensor([4 5 6 7], shape=(4,), dtype=int64)\ntf.Tensor([8 9], shape=(2,), dtype=int64)\n\ntf.Tensor([ 0  1  8 27], shape=(4,), dtype=int64)\ntf.Tensor([ 64 125 216 343], shape=(4,), dtype=int64)\n"
          },
          "execution_count": 1,
          "metadata": {}
        }
      ]
    },
    {
      "cell_type": "code",
      "execution_count": 1,
      "metadata": {
        "dotnet_interactive": {
          "language": "python"
        }
      },
      "source": [
        "# Question 5:\n",
        "# \n",
        "import tensorflow as tf\n",
        "\n",
        "# a. create dataset\n",
        "dataset = tf.data.Dataset.range(10).repeat(5)\n",
        "print ('dataset has', len(list(dataset)), 'elements')\n",
        "print('')\n",
        "\n",
        "# b. dataset buffer and display\n",
        "ds = dataset.shuffle(buffer_size=5).batch(7)\n",
        "\n",
        "for item in ds:\n",
        "  print(item)\n",
        "print('')"
      ],
      "outputs": [
        {
          "output_type": "execute_result",
          "data": {
            "text/plain": "dataset has 50 elements\n\ntf.Tensor([3 4 6 0 8 2 1], shape=(7,), dtype=int64)\ntf.Tensor([1 2 0 3 5 7 6], shape=(7,), dtype=int64)\ntf.Tensor([8 4 0 9 1 9 2], shape=(7,), dtype=int64)\ntf.Tensor([5 4 5 8 7 9 6], shape=(7,), dtype=int64)\ntf.Tensor([0 3 1 5 7 2 4], shape=(7,), dtype=int64)\ntf.Tensor([6 7 8 0 2 1 5], shape=(7,), dtype=int64)\ntf.Tensor([6 4 7 8 3 9 3], shape=(7,), dtype=int64)\ntf.Tensor([9], shape=(1,), dtype=int64)\n"
          },
          "execution_count": 1,
          "metadata": {}
        }
      ]
    }
  ],
  "metadata": {
    "kernelspec": {
      "display_name": ".NET (C#)",
      "language": "C#",
      "name": ".net-csharp"
    },
    "language_info": {
      "file_extension": ".cs",
      "mimetype": "text/x-csharp",
      "name": "C#",
      "pygments_lexer": "csharp",
      "version": "8.0"
    }
  },
  "nbformat": 4,
  "nbformat_minor": 4
}